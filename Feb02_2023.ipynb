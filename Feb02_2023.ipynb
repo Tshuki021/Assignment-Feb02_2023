{
 "cells": [
  {
   "cell_type": "markdown",
   "id": "62f16101-8c05-4f44-a0b7-1eb55f5111a2",
   "metadata": {},
   "source": [
    "Q1. Explain with an example when to use a loop and a while loop"
   ]
  },
  {
   "cell_type": "markdown",
   "id": "c199923d-ed9e-4b4a-a352-7e85181807f6",
   "metadata": {},
   "source": [
    "A1. Following are some of the examples of when to use a for loop and while loop."
   ]
  },
  {
   "cell_type": "markdown",
   "id": "2048e0b3-f034-47c2-9bb8-7a335553c3fb",
   "metadata": {},
   "source": [
    "    1. For Loop - This kind of loop is useful when you have a known and a finite number of iterations. This loop is done on a collection of elemets in a list, tuple, string or a disctionary. It is a much simpler type of loop. Let's take a look at an example of the loop when we want to find the summation of a series of numbers [1,3,7,15,31,63]- "
   ]
  },
  {
   "cell_type": "code",
   "execution_count": 1,
   "id": "ab9ff9a4-5427-456c-8234-f16f97dc6a02",
   "metadata": {},
   "outputs": [
    {
     "name": "stdout",
     "output_type": "stream",
     "text": [
      "1\n",
      "4\n",
      "11\n",
      "26\n",
      "57\n",
      "120\n"
     ]
    },
    {
     "data": {
      "text/plain": [
       "120"
      ]
     },
     "execution_count": 1,
     "metadata": {},
     "output_type": "execute_result"
    }
   ],
   "source": [
    "l = [1,3,7,15,31,63]\n",
    "s = 0\n",
    "for i in l:\n",
    "    s +=i\n",
    "    print(s)\n",
    "s"
   ]
  },
  {
   "cell_type": "markdown",
   "id": "85a2c491-1055-4a1e-887f-ab0395d1ea91",
   "metadata": {},
   "source": [
    "    2. While Loop - This kind of loop is useful when you don't have a known and/or finite number of iterations, instead you have a termination condition. This kind of loop make a more complex kind of loop. Using the same series above we can find a 'n' number of iterations and their sum."
   ]
  },
  {
   "cell_type": "code",
   "execution_count": 2,
   "id": "adb484cf-72ec-4c79-a550-8afaac9c191a",
   "metadata": {},
   "outputs": [
    {
     "name": "stdin",
     "output_type": "stream",
     "text": [
      "Enter your nth term 5\n"
     ]
    },
    {
     "name": "stdout",
     "output_type": "stream",
     "text": [
      "1\n",
      "4\n",
      "11\n",
      "26\n"
     ]
    },
    {
     "data": {
      "text/plain": [
       "57"
      ]
     },
     "execution_count": 2,
     "metadata": {},
     "output_type": "execute_result"
    }
   ],
   "source": [
    "n = int(input(\"Enter your nth term\"))\n",
    "if n == 0:\n",
    "    s = 0\n",
    "    i = 0\n",
    "else:\n",
    "    s = 1\n",
    "    i = 1\n",
    "    while i <= n-1:\n",
    "        print(s)\n",
    "        i += 1\n",
    "        s += 2**i - 1\n",
    "s"
   ]
  },
  {
   "cell_type": "markdown",
   "id": "93da3e01-2308-4ae2-b935-e4ce64f7cccc",
   "metadata": {},
   "source": [
    "Q2. Write a python program to print the sum and product of the first 10 natural numbers using for and while loop."
   ]
  },
  {
   "cell_type": "code",
   "execution_count": 3,
   "id": "e1dd7792-2ba0-4b4b-91a5-ef1b8f05fbb9",
   "metadata": {},
   "outputs": [
    {
     "name": "stdout",
     "output_type": "stream",
     "text": [
      "summation = 55\n",
      "product = 3628800\n"
     ]
    }
   ],
   "source": [
    "l = list(range(1,11))\n",
    "s = 0\n",
    "p = 1\n",
    "for i in l:\n",
    "    s += i\n",
    "    p *= i\n",
    "print(\"summation =\", s)\n",
    "print(\"product =\", p)"
   ]
  },
  {
   "cell_type": "code",
   "execution_count": 4,
   "id": "4e56a2fb-cb19-4091-aeaa-45c1db69afa1",
   "metadata": {},
   "outputs": [
    {
     "name": "stdout",
     "output_type": "stream",
     "text": [
      "summation = 55\n",
      "product = 3628800\n"
     ]
    }
   ],
   "source": [
    "s = 0\n",
    "p = 1\n",
    "i = 1\n",
    "while i <=10:\n",
    "    s += i\n",
    "    p *= i\n",
    "    i += 1\n",
    "print(\"summation =\", s)\n",
    "print(\"product =\", p)"
   ]
  },
  {
   "cell_type": "markdown",
   "id": "4957af03-a075-4592-adb6-2f80fc678a7d",
   "metadata": {},
   "source": [
    "Q3. Create a python program to compute the electricty bill for a household. \n",
    "The per-unit charges in rupees are as follows: \n",
    "\n",
    "For the first 100 units, the user will be charged Rs. 4.5 per unit, for the next 100 units, the user will be charged Rs. 6 per unit, and for the next 100 units, the user will be charged Rs. 10 per unit, After 300 units and above the user will be charged Rs. 20 per unit. You are required to take the units of electricity consumed in a month from the user as input."
   ]
  },
  {
   "cell_type": "code",
   "execution_count": 5,
   "id": "30e9ca88-8a98-4834-aa95-a2dcc13a982f",
   "metadata": {},
   "outputs": [
    {
     "name": "stdin",
     "output_type": "stream",
     "text": [
      "Enter your household's unit consumption in this month 5\n"
     ]
    },
    {
     "data": {
      "text/plain": [
       "22.5"
      ]
     },
     "execution_count": 5,
     "metadata": {},
     "output_type": "execute_result"
    }
   ],
   "source": [
    "units = int(input(\"Enter your household's unit consumption in this month\"))\n",
    "bill = 0\n",
    "i = 0\n",
    "\n",
    "while i <= units:\n",
    "    if i <= 100:\n",
    "        bill = i*4.5\n",
    "        i += 1\n",
    "    elif i <= 200:\n",
    "        bill = (i-100)*6 + 450\n",
    "        i +=1\n",
    "    elif i <= 300:\n",
    "        bill = (i-200)*10 + 1050\n",
    "        i += 1\n",
    "    else:\n",
    "        bill = (i-300)*20 + 2050 \n",
    "        i += 1\n",
    "bill"
   ]
  },
  {
   "cell_type": "code",
   "execution_count": 6,
   "id": "56b1b388-dbaa-4f52-89c3-94134765e37a",
   "metadata": {},
   "outputs": [],
   "source": [
    "l = list(range(1,101))"
   ]
  },
  {
   "cell_type": "code",
   "execution_count": 7,
   "id": "0460ccf7-5df4-41a6-acfa-fecee5799651",
   "metadata": {},
   "outputs": [
    {
     "name": "stdout",
     "output_type": "stream",
     "text": [
      "[8, 64, 125, 216, 512, 1000, 1728, 2744, 3375, 4096, 5832, 8000, 10648, 13824, 15625, 17576, 21952, 27000, 32768, 39304, 42875, 46656, 54872, 64000, 74088, 85184, 91125, 97336, 110592, 125000, 140608, 157464, 166375, 175616, 195112, 216000, 238328, 262144, 274625, 287496, 314432, 343000, 373248, 405224, 421875, 438976, 474552, 512000, 551368, 592704, 614125, 636056, 681472, 729000, 778688, 830584, 857375, 884736, 941192, 1000000]\n"
     ]
    }
   ],
   "source": [
    "l1 = []\n",
    "for i in l:\n",
    "    i = i**3\n",
    "    if i % 4 == 0 or i % 5 == 0:\n",
    "        l1.append(i)\n",
    "print(l1)"
   ]
  },
  {
   "cell_type": "markdown",
   "id": "179fb677-8f54-494a-8e05-3307f9048ea5",
   "metadata": {},
   "source": [
    "Q5. Write a program to filter count vowels in the below-given string.\n",
    "string = \"I want to become a data scientist\""
   ]
  },
  {
   "cell_type": "code",
   "execution_count": 8,
   "id": "49ac4c35-6743-40c7-a511-c887e92e88a1",
   "metadata": {},
   "outputs": [
    {
     "data": {
      "text/plain": [
       "12"
      ]
     },
     "execution_count": 8,
     "metadata": {},
     "output_type": "execute_result"
    }
   ],
   "source": [
    "s = \"I want to become a data scientist\"\n",
    "v = [\"a\",\"e\",\"i\",\"o\",\"u\"]\n",
    "l = []\n",
    "for i in s:\n",
    "    if i.lower() in v:\n",
    "        l.append(i)\n",
    "len(l)"
   ]
  },
  {
   "cell_type": "code",
   "execution_count": null,
   "id": "8c10ed0c-a9ae-4752-972f-a2aa3d7b793e",
   "metadata": {},
   "outputs": [],
   "source": []
  }
 ],
 "metadata": {
  "kernelspec": {
   "display_name": "Python 3 (ipykernel)",
   "language": "python",
   "name": "python3"
  },
  "language_info": {
   "codemirror_mode": {
    "name": "ipython",
    "version": 3
   },
   "file_extension": ".py",
   "mimetype": "text/x-python",
   "name": "python",
   "nbconvert_exporter": "python",
   "pygments_lexer": "ipython3",
   "version": "3.10.8"
  }
 },
 "nbformat": 4,
 "nbformat_minor": 5
}
